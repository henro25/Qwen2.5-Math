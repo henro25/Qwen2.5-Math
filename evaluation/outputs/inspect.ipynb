{
 "cells": [
  {
   "cell_type": "code",
   "execution_count": 9,
   "metadata": {},
   "outputs": [],
   "source": [
    "import json\n",
    "\n",
    "# Inspect JSONL logs\n",
    "logs_file_path = r'C:\\Users\\kevihuang\\projects\\Qwen2.5-Math\\evaluation\\outputs\\llama-3-1-8b-instruct\\math_eval\\math\\test_qwen25-math-cot_-1_seed0_t0.0_s0_e-1.jsonl'\n",
    "\n",
    "with open(logs_file_path, 'r', encoding='utf-8') as f:\n",
    "    logs = [json.loads(line) for line in f.readlines()]"
   ]
  },
  {
   "cell_type": "code",
   "execution_count": 10,
   "metadata": {},
   "outputs": [
    {
     "data": {
      "text/plain": [
       "{'idx': 1,\n",
       " 'question': 'Two fair 6-sided dice are rolled.  What is the probability the sum rolled is 9?',\n",
       " 'gt_cot': 'There are 4 different ways to roll a 9 (3+6, 4+5, 5+4, 6+3), which makes the probability of rolling a 9 equal to $\\\\dfrac{4}{36} = \\\\boxed{\\\\dfrac{1}{9}}$.',\n",
       " 'gt': '\\\\frac{1}{9}',\n",
       " 'level': 'Level 4',\n",
       " 'solution': 'There are 4 different ways to roll a 9 (3+6, 4+5, 5+4, 6+3), which makes the probability of rolling a 9 equal to $\\\\dfrac{4}{36} = \\\\boxed{\\\\dfrac{1}{9}}$.',\n",
       " 'answer': '\\\\dfrac{1}{9}',\n",
       " 'code': ['To find the probability of rolling a sum of 9 with two fair 6-sided dice, we need to count the number of favorable outcomes and divide it by the total number of possible outcomes.\\n\\nStep 1: Count the total number of possible outcomes.\\nWhen two dice are rolled, each die has 6 possible outcomes. So, the total number of possible outcomes is 6 * 6 = 36.\\n\\nStep 2: Count the number of favorable outcomes (sum of 9).\\nWe need to find all the combinations of two dice that add up to 9. These combinations are:\\n(3, 6), (4, 5), (5, 4), and (6, 3).\\n\\nThere are 4 favorable outcomes.\\n\\nStep 3: Calculate the probability.\\nThe probability of rolling a sum of 9 is the number of favorable outcomes divided by the total number of possible outcomes.\\nProbability = Number of favorable outcomes / Total number of possible outcomes\\nProbability = 4 / 36\\nProbability = 1 / 9\\n\\nSo, the probability of rolling a sum of 9 with two fair 6-sided dice is \\\\boxed{1/9}.'],\n",
       " 'pred': ['\\\\frac{1}{9}'],\n",
       " 'report': [None],\n",
       " 'score': [True]}"
      ]
     },
     "execution_count": 10,
     "metadata": {},
     "output_type": "execute_result"
    }
   ],
   "source": [
    "logs[1]"
   ]
  },
  {
   "cell_type": "code",
   "execution_count": 11,
   "metadata": {},
   "outputs": [
    {
     "name": "stdout",
     "output_type": "stream",
     "text": [
      "['To find the probability of rolling a sum of 9 with two fair 6-sided dice, we need to count the number of favorable outcomes and divide it by the total number of possible outcomes.\\n\\nStep 1: Count the total number of possible outcomes.\\nWhen two dice are rolled, each die has 6 possible outcomes. So, the total number of possible outcomes is 6 * 6 = 36.\\n\\nStep 2: Count the number of favorable outcomes (sum of 9).\\nWe need to find all the combinations of two dice that add up to 9. These combinations are:\\n(3, 6), (4, 5), (5, 4), and (6, 3).\\n\\nThere are 4 favorable outcomes.\\n\\nStep 3: Calculate the probability.\\nThe probability of rolling a sum of 9 is the number of favorable outcomes divided by the total number of possible outcomes.\\nProbability = Number of favorable outcomes / Total number of possible outcomes\\nProbability = 4 / 36\\nProbability = 1 / 9\\n\\nSo, the probability of rolling a sum of 9 with two fair 6-sided dice is \\\\boxed{1/9}.']\n"
     ]
    }
   ],
   "source": [
    "print(logs[1]['code'])"
   ]
  }
 ],
 "metadata": {
  "kernelspec": {
   "display_name": "venv",
   "language": "python",
   "name": "python3"
  },
  "language_info": {
   "codemirror_mode": {
    "name": "ipython",
    "version": 3
   },
   "file_extension": ".py",
   "mimetype": "text/x-python",
   "name": "python",
   "nbconvert_exporter": "python",
   "pygments_lexer": "ipython3",
   "version": "3.11.5"
  }
 },
 "nbformat": 4,
 "nbformat_minor": 2
}
