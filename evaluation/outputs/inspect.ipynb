{
 "cells": [
  {
   "cell_type": "code",
   "execution_count": null,
   "metadata": {},
   "outputs": [],
   "source": [
    "import json\n",
    "\n",
    "# Inspect JSONL logs\n",
    "logs_file_path = r'C:\\Users\\kevihuang\\OneDrive - Microsoft\\Desktop\\projects\\Qwen2.5-Math\\evaluation\\outputs\\llama-3-1-8b-longcot-sft\\math_eval\\math\\test_qwen25-math-cot_-1_seed0_t0.0_s0_e-1.jsonl'\n",
    "\n",
    "with open(logs_file_path, 'r', encoding='utf-8') as f:\n",
    "    logs = [json.loads(line) for line in f.readlines()]"
   ]
  },
  {
   "cell_type": "code",
   "execution_count": 11,
   "metadata": {},
   "outputs": [
    {
     "data": {
      "text/plain": [
       "{'idx': 0,\n",
       " 'question': 'What is $10.0000198\\\\cdot 5.9999985401\\\\cdot 6.9999852$ to the nearest whole number?',\n",
       " 'gt_cot': \"Notice that $10.00001988$ is very close to $10$, $5.9999985401$ is very close to $6$ and $6.9999852$ is very close to $7$. Because the given numbers are all so close to integers, we're unlikely to go wrong by rounding before multiplying. We get $$10\\\\cdot6\\\\cdot7=\\\\boxed{420}.$$If we multiplied the given numbers with a calculator we would get $$6.9999852\\\\cdot5.9999985401\\\\cdot10.00001988=419.999844...$$which would still round to $420$.\",\n",
       " 'gt': '420',\n",
       " 'level': 'Level 3',\n",
       " 'solution': \"Notice that $10.00001988$ is very close to $10$, $5.9999985401$ is very close to $6$ and $6.9999852$ is very close to $7$. Because the given numbers are all so close to integers, we're unlikely to go wrong by rounding before multiplying. We get $$10\\\\cdot6\\\\cdot7=\\\\boxed{420}.$$If we multiplied the given numbers with a calculator we would get $$6.9999852\\\\cdot5.9999985401\\\\cdot10.00001988=419.999844...$$which would still round to $420$.\",\n",
       " 'answer': '420',\n",
       " 'code': ['<start_of_father_id>0<end_of_father_id><start_of_local_id>1<end_of_local_id>\\n<start_of_father_id>1<end_of_father_id><start_of_local_id>2<end_of_local_id>\\n<start_of_father_id>2<end_of_father_id><start_of_local_id>3<end_of_local_id>\\n<start_of_father_id>3<end_of_father_id><start_of_local_id>4<end_of_local_id>\\n<start_of_father_id>4<end_of_father_id><start_of_local_id>5<end_of_local_id>\\n<start_of_father_id>5<end_of_father_id><start_of_local_id>6<end_of_local_id>\\n<start_of_father_id>6<end_of_father_id><start_of_local_id>7<end_of_local_id>\\n<start_of_father_id>7<end_of_father_id><start_of_local_id>8<end_of_local_id>\\n<start_of_father_id>8<end_of_father_id><start_of_local_id>9<end_of_local_id>\\n<start_of_father_id>9<end_of_father_id><start_of_local_id>10<end_of_local_id>\\n<start_of_father_id>10<end_of_father_id><start_of_local_id>11<end_of_local_id>\\n<start_of_father_id>11<end_of_father_id><start_of_local_id>12<end_of_local_id>\\n<start_of_father_id>12<end_of_father_id><start_of_local_id>13<end_of_local_id>\\n<start_of_father_id>13<end_of_father_id><start_of_local_id>14<end_of_local_id>\\n<start_of_father_id>14<end_of_father_id><start_of_local_id>15<end_of_local_id>\\n<start_of_father_id>15<end_of_father_id><start_of_local_id>16<end_of_local_id>\\n<start_of_father_id>16<end_of_father_id><start_of_local_id>17<end_of_local_id>\\n<start_of_father_id>17<end_of_father_id><start_of_local_id>18<end_of_local_id>\\n<start_of_father_id>18<end_of_father_id><start_of_local_id>19<end_of_local_id>\\n<start_of_father_id>19<end_of_father_id><start_of_local_id>20<end_of_local_id>\\n<start_of_father_id>20<end_of_father_id><start_of_local_id>21<end_of_local_id>\\n<start_of_father_id>21<end_of_father_id><start_of_local_id>22<end_of_local_id>\\n<start_of_father_id>22<end_of_father_id><start_of_local_id>23<end_of_local_id>\\n<start_of_father_id>23<end_of_father_id><start_of_local_id>24<end_of_local_id>\\n<start_of_father_id>24<end_of_father_id><start_of_local_id>25<end_of_local_id>\\n<start_of_father_id>25<end_of_father_id><start_of_local_id>26<end_of_local_id>\\n<start_of_father_id>26<end_of_father_id><start_of_local_id>27<end_of_local_id>\\n<start_of_father_id>27<end_of_father_id><start_of_local_id>28<end_of_local_id>\\n<start_of_father_id>28<end_of_father_id><start_of_local_id>29<end_of_local_id>\\n<start_of_father_id>29<end_of_father_id><start_of_local_id>30<end_of_local_id>\\n<start_of_father_id>30<end_of_father_id><start_of_local_id>31<end_of_local_id>\\n<start_of_father_id>31<end_of_father_id><start_of_local_id>32<end_of_local_id>\\n<start_of_father_id>32<end_of_father_id><start_of_local_id>33<end_of_local_id>\\n<start_of_father_id>33<end_of_father_id><start_of_local_id>34<end_of_local_id>\\n<start_of_father_id>34<end_of_father_id><start_of_local_id>35<end_of_local_id>\\n<start_of_father_id>35<end_of_father_id><start_of_local_id>36<end_of_local_id>\\n<start_of_father_id>36<end_of_father_id><start_of_local_id>37<end_of_local_id>\\n<start_of_father_id>37<end_of_father_id><start_of_local_id>38<end_of_local_id>\\n<start_of_father_id>38<end_of_father_id><start_of_local_id>39<end_of_local_id>\\n<start_of_father_id>39<end_of_father_id><start_of_local_id>40<end_of_local_id>\\n<start_of_father_id>40<end_of_father_id><start_of_local_id>41<end_of_local_id>\\n<start_of_father_id>41<end_of_father_id><start_of_local_id>42<end_of_local_id>\\n<start_of_father_id>42<end_of_father_id><start_of_local_id>43<end_of_local_id>\\n<start_of_father_id>43<end_of_father_id><start_of_local_id>44<end_of_local_id>\\n<start_of_father_id>44<end_of_father_id><start_of_local_id>45<end_of_local_id>\\n<start_of_father_id>45<end_of_father_id><start_of_local_id>46<end_of_local_id>\\n<start_of_father_id>46<end_of_father_id><start_of_local_id>47<end_of_local_id>\\n<start_of_father_id>47<end_of_father_id><start_of_local_id>48<end_of_local_id>\\n<start_of_father_id>48<end_of_father_id><start_of_local_id>49<end_of_local_id>\\n<start_of_father_id>49<end_of_father_id><start_of_local_id>50<end_of_local_id>\\n<start_of_father_id>50<end_of_father_id><start_of_local_id>51<end_of_local_id>\\n<start_of_father_id>51<end_of_father_id><start_of_local_id>52<end_of_local_id>\\n<start_of_father_id>52<end_of_father_id><start_of_local_id>52<end_of_local_id>\\n<start_of_father_id>52<end_of_father_id><start_of_local_id>53<end_of_local_id>\\n<start_of_father_id>53<end_of_father_id><start_of_local_id>53<end_of_local_id>\\n<start_of_father_id>53<end_of_father_id><start_of_local_id>54<end_of_local_id>\\n<start_of_father_id>54<end_of_father_id><start_of_local_id>55<end_of_local_id>\\n<start_of_father_id>55<end_of_father_id><start_of_local_id>55<end_of_local_id>\\n<start_of_father_id>55<end_of_father_id><start_of_local_id>56<end_of_local_id>\\n<start_of_father_id>56<end_of_father_id><start_of_local_id>57<end_of_local_id>\\n<start_of_father_id>57<end_of_father_id><start_of_local_id>57<end_of_local_id>\\n<start_of_father_id>57<end_of_father_id><start_of_local_id>58<end_of_local_id>\\n<start_of_father_id>58<end_of_father_id><start_of_local_id>58<end_of_local_id>\\n<start_of_father_id>58<end_of_father_id><start_of_local_id>59<end_of_local_id>\\n<start_of_father_id>59<end_of_father_id><start_of_local_id>60<end_of_local_id>\\n<start_of_father_id>60<end_of_father_id><start_of_local_id>60<end_of_local_id>\\n<start_of_father_id>60<end_of_father_id><start_of_local_id>61<end_of_local_id>\\n<start_of_father_id>61<end_of_father_id><start_of_local_id>61<end_of_local_id>\\n<start_of_father_id>61<end_of_father_id><start_of_local_id>62<end_of_local_id>\\n<start_of_father_id>62<end_of_father_id><start_of_local_id>62<end_of_local_id>\\n<start_of_father_id>62<end_of_father_id><start_of_local_id>63<end_of_local_id>\\n<start_of_father_id>63<end_of_father_id><start_of_local_id>63<end_of_local_id>\\n<start_of_father_id>63<end_of_father_id><start_of_local_id>64<end_of_local_id>\\n<start_of_father_id>64<end_of_father_id><start_of_local_id>64<end_of_local_id>\\n<start_of_father_id>64<end_of_father_id><start_of_local_id>65<end_of_local_id>\\n<start_of_father_id>65<end_of_father_id><start_of_local_id>65<end'],\n",
       " 'pred': ['65'],\n",
       " 'report': [None],\n",
       " 'score': [False]}"
      ]
     },
     "execution_count": 11,
     "metadata": {},
     "output_type": "execute_result"
    }
   ],
   "source": [
    "logs[0]"
   ]
  },
  {
   "cell_type": "code",
   "execution_count": 10,
   "metadata": {},
   "outputs": [
    {
     "name": "stdout",
     "output_type": "stream",
     "text": [
      "['<start_of_father_id>0<end_of_father_id><start_of_local_id>1<end_of_local_id>\\n<start_of_father_id>1<end_of_father_id><start_of_local_id>2<end_of_local_id>\\n<start_of_father_id>2<end_of_father_id><start_of_local_id>3<end_of_local_id>\\n<start_of_father_id>3<end_of_father_id><start_of_local_id>4<end_of_local_id>\\n<start_of_father_id>4<end_of_father_id><start_of_local_id>5<end_of_local_id>\\n<start_of_father_id>5<end_of_father_id><start_of_local_id>6<end_of_local_id>\\n<start_of_father_id>6<end_of_father_id><start_of_local_id>7<end_of_local_id>\\n<start_of_father_id>7<end_of_father_id><start_of_local_id>8<end_of_local_id>\\n<start_of_father_id>8<end_of_father_id><start_of_local_id>9<end_of_local_id>\\n<start_of_father_id>9<end_of_father_id><start_of_local_id>10<end_of_local_id>\\n<start_of_father_id>10<end_of_father_id><start_of_local_id>11<end_of_local_id>\\n<start_of_father_id>11<end_of_father_id><start_of_local_id>12<end_of_local_id>\\n<start_of_father_id>12<end_of_father_id><start_of_local_id>13<end_of_local_id>\\n<start_of_father_id>13<end_of_father_id><start_of_local_id>14<end_of_local_id>\\n<start_of_father_id>14<end_of_father_id><start_of_local_id>15<end_of_local_id>\\n<start_of_father_id>15<end_of_father_id><start_of_local_id>16<end_of_local_id>\\n<start_of_father_id>16<end_of_father_id><start_of_local_id>17<end_of_local_id>\\n<start_of_father_id>17<end_of_father_id><start_of_local_id>18<end_of_local_id>\\n<start_of_father_id>18<end_of_father_id><start_of_local_id>19<end_of_local_id>\\n<start_of_father_id>19<end_of_father_id><start_of_local_id>20<end_of_local_id>\\n<start_of_father_id>20<end_of_father_id><start_of_local_id>21<end_of_local_id>\\n<start_of_father_id>21<end_of_father_id><start_of_local_id>22<end_of_local_id>\\n<start_of_father_id>22<end_of_father_id><start_of_local_id>23<end_of_local_id>\\n<start_of_father_id>23<end_of_father_id><start_of_local_id>24<end_of_local_id>\\n<start_of_father_id>24<end_of_father_id><start_of_local_id>25<end_of_local_id>\\n<start_of_father_id>25<end_of_father_id><start_of_local_id>26<end_of_local_id>\\n<start_of_father_id>26<end_of_father_id><start_of_local_id>27<end_of_local_id>\\n<start_of_father_id>27<end_of_father_id><start_of_local_id>28<end_of_local_id>\\n<start_of_father_id>28<end_of_father_id><start_of_local_id>29<end_of_local_id>\\n<start_of_father_id>29<end_of_father_id><start_of_local_id>30<end_of_local_id>\\n<start_of_father_id>30<end_of_father_id><start_of_local_id>31<end_of_local_id>\\n<start_of_father_id>31<end_of_father_id><start_of_local_id>32<end_of_local_id>\\n<start_of_father_id>32<end_of_father_id><start_of_local_id>33<end_of_local_id>\\n<start_of_father_id>33<end_of_father_id><start_of_local_id>34<end_of_local_id>\\n<start_of_father_id>34<end_of_father_id><start_of_local_id>35<end_of_local_id>\\n<start_of_father_id>35<end_of_father_id><start_of_local_id>36<end_of_local_id>\\n<start_of_father_id>36<end_of_father_id><start_of_local_id>37<end_of_local_id>\\n<start_of_father_id>37<end_of_father_id><start_of_local_id>38<end_of_local_id>\\n<start_of_father_id>38<end_of_father_id><start_of_local_id>39<end_of_local_id>\\n<start_of_father_id>39<end_of_father_id><start_of_local_id>40<end_of_local_id>\\n<start_of_father_id>40<end_of_father_id><start_of_local_id>41<end_of_local_id>\\n<start_of_father_id>41<end_of_father_id><start_of_local_id>42<end_of_local_id>\\n<start_of_father_id>42<end_of_father_id><start_of_local_id>43<end_of_local_id>\\n<start_of_father_id>43<end_of_father_id><start_of_local_id>44<end_of_local_id>\\n<start_of_father_id>44<end_of_father_id><start_of_local_id>45<end_of_local_id>\\n<start_of_father_id>45<end_of_father_id><start_of_local_id>46<end_of_local_id>\\n<start_of_father_id>46<end_of_father_id><start_of_local_id>47<end_of_local_id>\\n<start_of_father_id>47<end_of_father_id><start_of_local_id>48<end_of_local_id>\\n<start_of_father_id>48<end_of_father_id><start_of_local_id>49<end_of_local_id>\\n<start_of_father_id>49<end_of_father_id><start_of_local_id>50<end_of_local_id>\\n<start_of_father_id>50<end_of_father_id><start_of_local_id>51<end_of_local_id>\\n<start_of_father_id>51<end_of_father_id><start_of_local_id>52<end_of_local_id>\\n<start_of_father_id>52<end_of_father_id><start_of_local_id>52<end_of_local_id>\\n<start_of_father_id>52<end_of_father_id><start_of_local_id>53<end_of_local_id>\\n<start_of_father_id>53<end_of_father_id><start_of_local_id>53<end_of_local_id>\\n<start_of_father_id>53<end_of_father_id><start_of_local_id>54<end_of_local_id>\\n<start_of_father_id>54<end_of_father_id><start_of_local_id>55<end_of_local_id>\\n<start_of_father_id>55<end_of_father_id><start_of_local_id>55<end_of_local_id>\\n<start_of_father_id>55<end_of_father_id><start_of_local_id>56<end_of_local_id>\\n<start_of_father_id>56<end_of_father_id><start_of_local_id>57<end_of_local_id>\\n<start_of_father_id>57<end_of_father_id><start_of_local_id>57<end_of_local_id>\\n<start_of_father_id>57<end_of_father_id><start_of_local_id>58<end_of_local_id>\\n<start_of_father_id>58<end_of_father_id><start_of_local_id>58<end_of_local_id>\\n<start_of_father_id>58<end_of_father_id><start_of_local_id>59<end_of_local_id>\\n<start_of_father_id>59<end_of_father_id><start_of_local_id>60<end_of_local_id>\\n<start_of_father_id>60<end_of_father_id><start_of_local_id>60<end_of_local_id>\\n<start_of_father_id>60<end_of_father_id><start_of_local_id>61<end_of_local_id>\\n<start_of_father_id>61<end_of_father_id><start_of_local_id>61<end_of_local_id>\\n<start_of_father_id>61<end_of_father_id><start_of_local_id>62<end_of_local_id>\\n<start_of_father_id>62<end_of_father_id><start_of_local_id>62<end_of_local_id>\\n<start_of_father_id>62<end_of_father_id><start_of_local_id>63<end_of_local_id>\\n<start_of_father_id>63<end_of_father_id><start_of_local_id>63<end_of_local_id>\\n<start_of_father_id>63<end_of_father_id><start_of_local_id>64<end_of_local_id>\\n<start_of_father_id>64<end_of_father_id><start_of_local_id>64<end_of_local_id>\\n<start_of_father_id>64<end_of_father_id><start_of_local_id>65<end_of_local_id>\\n<start_of_father_id>65<end_of_father_id><start_of_local_id>65<end']\n"
     ]
    }
   ],
   "source": [
    "print(logs[0]['code'])"
   ]
  }
 ],
 "metadata": {
  "kernelspec": {
   "display_name": "llama_o1",
   "language": "python",
   "name": "python3"
  },
  "language_info": {
   "codemirror_mode": {
    "name": "ipython",
    "version": 3
   },
   "file_extension": ".py",
   "mimetype": "text/x-python",
   "name": "python",
   "nbconvert_exporter": "python",
   "pygments_lexer": "ipython3",
   "version": "3.12.8"
  }
 },
 "nbformat": 4,
 "nbformat_minor": 2
}
