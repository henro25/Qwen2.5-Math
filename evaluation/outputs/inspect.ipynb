{
 "cells": [
  {
   "cell_type": "code",
   "execution_count": 9,
   "metadata": {},
   "outputs": [],
   "source": [
    "import json\n",
    "\n",
    "# Inspect JSONL logs\n",
    "logs_file_path = r'C:\\Users\\kevihuang\\projects\\Qwen2.5-Math\\evaluation\\outputs\\llama-3-1-8b-instruct\\math_eval\\math\\test_qwen25-math-cot_-1_seed0_t0.0_s0_e-1.jsonl'\n",
    "\n",
    "with open(logs_file_path, 'r', encoding='utf-8') as f:\n",
    "    logs = [json.loads(line) for line in f.readlines()]"
   ]
  },
  {
   "cell_type": "code",
   "execution_count": 10,
   "metadata": {},
   "outputs": [
    {
     "data": {
      "text/plain": [
       "{'idx': 1,\n",
       " 'question': 'Two fair 6-sided dice are rolled.  What is the probability the sum rolled is 9?',\n",
       " 'gt_cot': 'There are 4 different ways to roll a 9 (3+6, 4+5, 5+4, 6+3), which makes the probability of rolling a 9 equal to $\\\\dfrac{4}{36} = \\\\boxed{\\\\dfrac{1}{9}}$.',\n",
       " 'gt': '\\\\frac{1}{9}',\n",
       " 'level': 'Level 4',\n",
       " 'solution': 'There are 4 different ways to roll a 9 (3+6, 4+5, 5+4, 6+3), which makes the probability of rolling a 9 equal to $\\\\dfrac{4}{36} = \\\\boxed{\\\\dfrac{1}{9}}$.',\n",
       " 'answer': '\\\\dfrac{1}{9}',\n",
       " 'code': ['To find the probability of rolling a sum of 9 with two fair 6-sided dice, we need to count the number of favorable outcomes and divide it by the total number of possible outcomes.\\n\\nStep 1: Count the total number of possible outcomes.\\nWhen two dice are rolled, each die has 6 possible outcomes. So, the total number of possible outcomes is 6 * 6 = 36.\\n\\nStep 2: Count the number of favorable outcomes (sum of 9).\\nWe need to find all the combinations of two dice that add up to 9. These combinations are:\\n(3, 6), (4, 5), (5, 4), and (6, 3).\\n\\nThere are 4 favorable outcomes.\\n\\nStep 3: Calculate the probability.\\nThe probability of rolling a sum of 9 is the number of favorable outcomes divided by the total number of possible outcomes.\\nProbability = Number of favorable outcomes / Total number of possible outcomes\\nProbability = 4 / 36\\nProbability = 1 / 9\\n\\nSo, the probability of rolling a sum of 9 with two fair 6-sided dice is \\\\boxed{1/9}.'],\n",
       " 'pred': ['\\\\frac{1}{9}'],\n",
       " 'report': [None],\n",
       " 'score': [True]}"
      ]
     },
     "execution_count": 10,
     "metadata": {},
     "output_type": "execute_result"
    }
   ],
   "source": [
    "logs[1]"
   ]
  },
  {
   "cell_type": "code",
   "execution_count": 11,
   "metadata": {},
   "outputs": [
    {
     "name": "stdout",
     "output_type": "stream",
     "text": [
      "['To find the probability of rolling a sum of 9 with two fair 6-sided dice, we need to count the number of favorable outcomes and divide it by the total number of possible outcomes.\\n\\nStep 1: Count the total number of possible outcomes.\\nWhen two dice are rolled, each die has 6 possible outcomes. So, the total number of possible outcomes is 6 * 6 = 36.\\n\\nStep 2: Count the number of favorable outcomes (sum of 9).\\nWe need to find all the combinations of two dice that add up to 9. These combinations are:\\n(3, 6), (4, 5), (5, 4), and (6, 3).\\n\\nThere are 4 favorable outcomes.\\n\\nStep 3: Calculate the probability.\\nThe probability of rolling a sum of 9 is the number of favorable outcomes divided by the total number of possible outcomes.\\nProbability = Number of favorable outcomes / Total number of possible outcomes\\nProbability = 4 / 36\\nProbability = 1 / 9\\n\\nSo, the probability of rolling a sum of 9 with two fair 6-sided dice is \\\\boxed{1/9}.']\n"
     ]
    }
   ],
   "source": [
    "print(logs[1]['code'])"
   ]
  },
  {
   "cell_type": "code",
   "execution_count": null,
   "metadata": {},
   "outputs": [],
   "source": []
  },
  {
   "cell_type": "markdown",
   "metadata": {},
   "source": [
    "# Compare two log file outputs"
   ]
  },
  {
   "cell_type": "code",
   "execution_count": 22,
   "metadata": {},
   "outputs": [],
   "source": [
    "import json\n",
    "\n",
    "log_file_1_path = r'C:\\Users\\kevihuang\\projects\\Qwen2.5-Math\\evaluation\\outputs\\llama-3-1-8b-instruct\\math_eval\\math500\\test_qwen25-math-cot_-1_seed0_t0.0_thoughts-1_zero_shot_reasoning_s0_e500.jsonl'\n",
    "\n",
    "log_file_2_path = r'C:\\Users\\kevihuang\\projects\\Qwen2.5-Math\\evaluation\\outputs\\llama-3-1-8b-instruct\\math_eval\\math500\\test_qwen25-math-cot_-1_seed0_t0.0_thoughts-1_two_shot_reasoning_few_shot_in_convo_not_system_s0_e500.jsonl'\n",
    "\n",
    "with open(log_file_1_path, 'r', encoding='utf-8') as f:\n",
    "    logs_1 = [json.loads(line) for line in f.readlines()]\n",
    "\n",
    "with open(log_file_2_path, 'r', encoding='utf-8') as f:\n",
    "    logs_2 = [json.loads(line) for line in f.readlines()]\n"
   ]
  },
  {
   "cell_type": "code",
   "execution_count": 26,
   "metadata": {},
   "outputs": [
    {
     "name": "stdout",
     "output_type": "stream",
     "text": [
      "test_qwen25-math-cot_-1_seed0_t0.0_thoughts-1_zero_shot_reasoning_s0_e500.jsonl correct, test_qwen25-math-cot_-1_seed0_t0.0_thoughts-1_two_shot_reasoning_few_shot_in_convo_not_system_s0_e500.jsonl incorrect: 64\n",
      "\n",
      "test_qwen25-math-cot_-1_seed0_t0.0_thoughts-1_two_shot_reasoning_few_shot_in_convo_not_system_s0_e500.jsonl correct, test_qwen25-math-cot_-1_seed0_t0.0_thoughts-1_zero_shot_reasoning_s0_e500.jsonl incorrect: 47\n"
     ]
    }
   ],
   "source": [
    "import os\n",
    "\n",
    "logs_1_correct_not_logs_2 = []\n",
    "logs_2_correct_not_logs_1 = []\n",
    "\n",
    "for i in range(len(logs_1)):\n",
    "    if logs_1[i][\"code\"][0] and logs_2[i][\"code\"][0] and logs_1[i]['score'][0] and not logs_2[i]['score'][0]:\n",
    "        logs_1_correct_not_logs_2.append((logs_1[i], logs_2[i]))\n",
    "    if logs_1[i][\"code\"][0] and logs_2[i][\"code\"][0] and logs_2[i]['score'][0] and not logs_1[i]['score'][0]:\n",
    "        logs_2_correct_not_logs_1.append((logs_1[i], logs_2[i]))\n",
    "\n",
    "print(f\"{os.path.basename(log_file_1_path)} correct, {os.path.basename(log_file_2_path)} incorrect: {len(logs_1_correct_not_logs_2)}\")\n",
    "print(f\"\\n{os.path.basename(log_file_2_path)} correct, {os.path.basename(log_file_1_path)} incorrect: {len(logs_2_correct_not_logs_1)}\")"
   ]
  },
  {
   "cell_type": "code",
   "execution_count": 28,
   "metadata": {},
   "outputs": [
    {
     "ename": "KeyboardInterrupt",
     "evalue": "Interrupted by user",
     "output_type": "error",
     "traceback": [
      "\u001b[1;31m---------------------------------------------------------------------------\u001b[0m",
      "\u001b[1;31mKeyboardInterrupt\u001b[0m                         Traceback (most recent call last)",
      "Cell \u001b[1;32mIn[28], line 15\u001b[0m\n\u001b[0;32m     12\u001b[0m \u001b[38;5;28;01mfrom\u001b[39;00m \u001b[38;5;21;01mIPython\u001b[39;00m\u001b[38;5;21;01m.\u001b[39;00m\u001b[38;5;21;01mdisplay\u001b[39;00m \u001b[38;5;28;01mimport\u001b[39;00m clear_output\n\u001b[0;32m     13\u001b[0m clear_output(wait\u001b[38;5;241m=\u001b[39m\u001b[38;5;28;01mTrue\u001b[39;00m)\n\u001b[1;32m---> 15\u001b[0m \u001b[38;5;28;43minput\u001b[39;49m\u001b[43m(\u001b[49m\u001b[38;5;124;43m\"\u001b[39;49m\u001b[38;5;124;43mPress Enter to continue...\u001b[39;49m\u001b[38;5;124;43m\"\u001b[39;49m\u001b[43m)\u001b[49m\n",
      "File \u001b[1;32mc:\\Users\\kevihuang\\projects\\Qwen2.5-Math\\venv\\Lib\\site-packages\\ipykernel\\kernelbase.py:1282\u001b[0m, in \u001b[0;36mKernel.raw_input\u001b[1;34m(self, prompt)\u001b[0m\n\u001b[0;32m   1280\u001b[0m     msg \u001b[38;5;241m=\u001b[39m \u001b[38;5;124m\"\u001b[39m\u001b[38;5;124mraw_input was called, but this frontend does not support input requests.\u001b[39m\u001b[38;5;124m\"\u001b[39m\n\u001b[0;32m   1281\u001b[0m     \u001b[38;5;28;01mraise\u001b[39;00m StdinNotImplementedError(msg)\n\u001b[1;32m-> 1282\u001b[0m \u001b[38;5;28;01mreturn\u001b[39;00m \u001b[38;5;28;43mself\u001b[39;49m\u001b[38;5;241;43m.\u001b[39;49m\u001b[43m_input_request\u001b[49m\u001b[43m(\u001b[49m\n\u001b[0;32m   1283\u001b[0m \u001b[43m    \u001b[49m\u001b[38;5;28;43mstr\u001b[39;49m\u001b[43m(\u001b[49m\u001b[43mprompt\u001b[49m\u001b[43m)\u001b[49m\u001b[43m,\u001b[49m\n\u001b[0;32m   1284\u001b[0m \u001b[43m    \u001b[49m\u001b[38;5;28;43mself\u001b[39;49m\u001b[38;5;241;43m.\u001b[39;49m\u001b[43m_parent_ident\u001b[49m\u001b[43m[\u001b[49m\u001b[38;5;124;43m\"\u001b[39;49m\u001b[38;5;124;43mshell\u001b[39;49m\u001b[38;5;124;43m\"\u001b[39;49m\u001b[43m]\u001b[49m\u001b[43m,\u001b[49m\n\u001b[0;32m   1285\u001b[0m \u001b[43m    \u001b[49m\u001b[38;5;28;43mself\u001b[39;49m\u001b[38;5;241;43m.\u001b[39;49m\u001b[43mget_parent\u001b[49m\u001b[43m(\u001b[49m\u001b[38;5;124;43m\"\u001b[39;49m\u001b[38;5;124;43mshell\u001b[39;49m\u001b[38;5;124;43m\"\u001b[39;49m\u001b[43m)\u001b[49m\u001b[43m,\u001b[49m\n\u001b[0;32m   1286\u001b[0m \u001b[43m    \u001b[49m\u001b[43mpassword\u001b[49m\u001b[38;5;241;43m=\u001b[39;49m\u001b[38;5;28;43;01mFalse\u001b[39;49;00m\u001b[43m,\u001b[49m\n\u001b[0;32m   1287\u001b[0m \u001b[43m\u001b[49m\u001b[43m)\u001b[49m\n",
      "File \u001b[1;32mc:\\Users\\kevihuang\\projects\\Qwen2.5-Math\\venv\\Lib\\site-packages\\ipykernel\\kernelbase.py:1325\u001b[0m, in \u001b[0;36mKernel._input_request\u001b[1;34m(self, prompt, ident, parent, password)\u001b[0m\n\u001b[0;32m   1322\u001b[0m \u001b[38;5;28;01mexcept\u001b[39;00m \u001b[38;5;167;01mKeyboardInterrupt\u001b[39;00m:\n\u001b[0;32m   1323\u001b[0m     \u001b[38;5;66;03m# re-raise KeyboardInterrupt, to truncate traceback\u001b[39;00m\n\u001b[0;32m   1324\u001b[0m     msg \u001b[38;5;241m=\u001b[39m \u001b[38;5;124m\"\u001b[39m\u001b[38;5;124mInterrupted by user\u001b[39m\u001b[38;5;124m\"\u001b[39m\n\u001b[1;32m-> 1325\u001b[0m     \u001b[38;5;28;01mraise\u001b[39;00m \u001b[38;5;167;01mKeyboardInterrupt\u001b[39;00m(msg) \u001b[38;5;28;01mfrom\u001b[39;00m \u001b[38;5;28;01mNone\u001b[39;00m\n\u001b[0;32m   1326\u001b[0m \u001b[38;5;28;01mexcept\u001b[39;00m \u001b[38;5;167;01mException\u001b[39;00m:\n\u001b[0;32m   1327\u001b[0m     \u001b[38;5;28mself\u001b[39m\u001b[38;5;241m.\u001b[39mlog\u001b[38;5;241m.\u001b[39mwarning(\u001b[38;5;124m\"\u001b[39m\u001b[38;5;124mInvalid Message:\u001b[39m\u001b[38;5;124m\"\u001b[39m, exc_info\u001b[38;5;241m=\u001b[39m\u001b[38;5;28;01mTrue\u001b[39;00m)\n",
      "\u001b[1;31mKeyboardInterrupt\u001b[0m: Interrupted by user"
     ]
    }
   ],
   "source": [
    "logs = logs_2_correct_not_logs_1\n",
    "\n",
    "for i in range(len(logs_2_correct_not_logs_1)):\n",
    "    print(f\"\\n--- Question: {logs[i][0]['question']}\")\n",
    "    print(f\"\\n--- Ground truth answer: {logs[i][0]['answer']}\")\n",
    "\n",
    "    print(f\"\\n--- Logs 1 answer: {logs[i][0]['code'][0]}\")\n",
    "    print(f\"\\n--- Logs 2 answer: {logs[i][1]['code'][0]}\")\n",
    "\n",
    "\n",
    "    # Clear Python jupyter notebook output\n",
    "    from IPython.display import clear_output\n",
    "    clear_output(wait=True)\n",
    "\n",
    "    input(\"Press Enter to continue...\")"
   ]
  },
  {
   "cell_type": "code",
   "execution_count": 20,
   "metadata": {},
   "outputs": [
    {
     "name": "stdout",
     "output_type": "stream",
     "text": [
      "First, let’s understand what is being asked.\n",
      "\n",
      "We need to find the pH of a 0.10 M solution of ammonium fluoride, NH₄F.\n",
      "\n",
      "Given:\n",
      "\n",
      "Ka(NH₄⁺) = 5.6×10⁻¹⁰\n",
      "\n",
      "Note that actually this is Kb(NH₃), but Ka(NH₄⁺) = Kw / Kb(NH₃).\n",
      "\n",
      "Also given:\n",
      "\n",
      "Ka(HF) = 6.8×10⁻⁴\n",
      "\n",
      "First, figure out what ions are present when NH₄F dissolves in water and how they affect the pH.\n",
      "\n",
      "First, NH₄F dissociates:\n",
      "\n",
      "NH₄F → NH₄⁺ + F⁻\n",
      "\n",
      "Now, both NH₄⁺ and F⁻ are ions that can affect the pH.\n",
      "\n",
      "NH₄⁺ is the conjugate acid of NH₃, so it can act as a weak acid:\n",
      "\n",
      "NH₄⁺ ⇌ NH₃ + H⁺\n",
      "\n",
      "Ka(NH₄⁺) = 5.6×10⁻¹⁰ (given).\n",
      "\n",
      "F⁻ is the conjugate base of HF, which is a weak acid, so F⁻ acts as a weak base:\n",
      "\n",
      "F⁻ + H₂O ⇌ HF + OH⁻\n",
      "\n",
      "Kb(F⁻) = Kw / Ka(HF) = 1.0×10⁻¹⁴ / 6.8×10⁻⁴.\n",
      "\n",
      "So both NH₄⁺ and F⁻ can react with water, affecting the pH.\n",
      "\n",
      "We have a salt of a weak acid and a weak base.\n",
      "\n",
      "But we need to calculate the pH of the solution taking into account both.\n",
      "\n",
      "In the presence of both NH₄⁺ and F⁻, the solution’s pH depends on the relative strengths of the conjugate acid NH₄⁺ and conjugate base F⁻.\n",
      "\n",
      "One standard way to approach this is to compare Ka(NH₄⁺) and Kb(F⁻).\n",
      "\n",
      "But we may also write an expression for the equilibrium concentrations, set up an equilibrium calculation.\n",
      "\n",
      "Alternatively, note that for salts of weak acids and weak bases, the pH depends on the Ka and Kb values.\n",
      "\n",
      "One method is to use the formula:\n",
      "\n",
      "pH = 7 + 0.5(pKa − pKb).\n",
      "\n",
      "But this formula works only when concentrations are equal.\n",
      "\n",
      "Wait, perhaps more accurate to find Kb for F⁻ and compare it to Ka for NH₄⁺.\n",
      "\n",
      "Let’s calculate Kb for F⁻.\n",
      "\n",
      "Given Ka(HF) = 6.8×10⁻⁴.\n",
      "\n",
      "So Kb(F⁻) = Kw / Ka(HF).\n",
      "\n",
      "Similarly, for NH₄⁺, we can write Kb(NH₃) = Kw / Ka(NH₄⁺).\n",
      "\n",
      "But maybe not necessary.\n",
      "\n",
      "Alternatively, for a salt of a weak acid and a weak base, the pH is given by:\n",
      "\n",
      "pH = 7 + 0.5×log(Kb for base / Ka for acid).\n",
      "\n",
      "But this formula assumes equimolar concentrations.\n",
      "\n",
      "Wait, but in our case, the weak acid and weak base have the same concentration, because NH₄F dissociates into equal amounts of NH₄⁺ and F⁻.\n",
      "\n",
      "So let’s compute:\n",
      "\n",
      "pH = 7 + 0.5×log(Kb / Ka).\n",
      "\n",
      "Wait, the correct formula is:\n",
      "\n",
      "pH = 7 + 0.5×log(Ka for acid / Kb for base).\n",
      "\n",
      "So first compute Kb for F⁻ and Ka for NH₄⁺.\n",
      "\n",
      "We have:\n",
      "\n",
      "Ka(NH₄⁺) = 5.6×10⁻¹⁰ (given).\n",
      "\n",
      "We can compute:\n",
      "\n",
      "Kb(F⁻) = Kw / Ka(HF) = 1.0×10⁻¹⁴ / 6.8×10⁻⁴ = 1.470588×10⁻¹¹.\n",
      "\n",
      "Now compute:\n",
      "\n",
      "pH = 7 + 0.5×log(Ka / Kb).\n",
      "\n",
      "Plug in values:\n",
      "\n",
      "pH = 7 + 0.5×log(Kb(F⁻) / Ka(NH₄⁺)).\n",
      "\n",
      "Plug in numbers:\n",
      "\n",
      "pH = 7 + 0.5×log(1.470588×10⁻¹¹ / 5.6×10⁻¹⁰).\n",
      "\n",
      "We can compute the ratio:\n",
      "\n",
      "Kratio = 1.470588×10⁻¹¹ / 5.6×10⁻¹⁰ = 0.0262605.\n",
      "\n",
      "Now compute:\n",
      "\n",
      "log(Kratio) = log(2.62605×10⁻²) = −1.5800.\n",
      "\n",
      "Then:\n",
      "\n",
      "pH = 7 + 0.5×(−1.5800) = 7 − 0.79 = 6.21.\n",
      "\n",
      "Therefore, the pH is approximately 6.21.\n",
      "\n",
      "To determine the pH of a 0.10 M solution of ammonium fluoride (NH₄F), we’ll need to consider the acid-base properties of its constituent ions when dissolved in water.\n",
      "\n",
      "Step 1: Dissociation of NH₄F\n",
      "\n",
      "NH₄F → NH₄⁺ + F⁻\n",
      "\n",
      "Both NH₄⁺ and F⁻ can react with water, affecting the pH.\n",
      "\n",
      "Step 2: Determine the Acid and Base Constants\n",
      "\n",
      "NH₄⁺ is the conjugate acid of the weak base NH₃. It can donate a proton to water:\n",
      "\n",
      "NH₄⁺ ⇋ NH₃ + H⁺\n",
      "\n",
      "The acid dissociation constant for NH₄⁺ is given:\n",
      "\n",
      "Ka(NH₄⁺) = 5.6×10⁻¹⁰.\n",
      "\n",
      "F⁻ is the conjugate base of the weak acid HF. It can accept a proton from water:\n",
      "\n",
      "F⁻ + H₂O ⇋ HF + OH⁻.\n",
      "\n",
      "First, calculate the base dissociation constant Kb for F⁻:\n",
      "\n",
      "Kb(F⁻) = Kw / Ka(HF) = 1.0×10⁻¹⁴ / 6.8×10⁻⁴ = 1.47×10⁻¹¹.\n",
      "\n",
      "Step 3: Use the pH Formula for a Salt of Weak Acid and Weak Base\n",
      "\n",
      "For a solution containing equal concentrations of a weak acid and a weak base:\n",
      "\n",
      "pH = 7 + 0.5×log(Ka / Kb).\n",
      "\n",
      "Plug in the values:\n",
      "\n",
      "Ka / Kb = 5.6×10⁻¹⁰ / 1.47×10⁻¹¹ = 0.02625.\n",
      "\n",
      "Calculate the logarithm:\n",
      "\n",
      "log(0.02625) = −1.580.\n",
      "\n",
      "Compute the pH:\n",
      "\n",
      "pH = 7 + 0.5×(−1.580) = 7 − 0.790 = 6.21.\n",
      "\n",
      "Answer:\n",
      "\n",
      "\\boxed{6.21}\n"
     ]
    }
   ],
   "source": [
    "# with open(r'C:\\Users\\kevihuang\\projects\\Qwen2.5-Math\\evaluation\\science.txt', 'r', encoding='utf-8') as f:\n",
    "#     science_answer = f.read()\n",
    "# print(science_answer.replace(\"\\n\\n\", \"\\n\").replace(\"\\n\", \"\\n\\n\"))"
   ]
  },
  {
   "cell_type": "code",
   "execution_count": 21,
   "metadata": {},
   "outputs": [],
   "source": [
    "# # Save\n",
    "# with open(r'C:\\Users\\kevihuang\\projects\\Qwen2.5-Math\\evaluation\\science.txt', 'w', encoding='utf-8') as f:\n",
    "#     f.write(science_answer.replace(\"\\n\\n\", \"\\n\").replace(\"\\n\", \"\\n\\n\"))"
   ]
  }
 ],
 "metadata": {
  "kernelspec": {
   "display_name": "venv",
   "language": "python",
   "name": "python3"
  },
  "language_info": {
   "codemirror_mode": {
    "name": "ipython",
    "version": 3
   },
   "file_extension": ".py",
   "mimetype": "text/x-python",
   "name": "python",
   "nbconvert_exporter": "python",
   "pygments_lexer": "ipython3",
   "version": "3.11.5"
  }
 },
 "nbformat": 4,
 "nbformat_minor": 2
}
