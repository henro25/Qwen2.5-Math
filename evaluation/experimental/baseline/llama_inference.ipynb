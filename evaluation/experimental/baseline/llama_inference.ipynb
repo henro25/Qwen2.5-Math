{
 "cells": [
  {
   "cell_type": "code",
   "execution_count": 1,
   "metadata": {},
   "outputs": [
    {
     "name": "stdout",
     "output_type": "stream",
     "text": [
      "Time taken: 1.9386565685272217\n",
      "\n",
      "\n",
      "Chat response: ChatCompletion(id='chat-236e36bc503a4509995a659e20bab619', choices=[Choice(finish_reason='stop', index=0, logprobs=None, message=ChatCompletionMessage(content='<start_of_father_id>-1<end_of_father_id><start_of_local_id>0<end_of_local_id><start_of_thought><problem>How many r\\'s are in the word strawberry?<end_of_thought><start_of_rating><positive_rating><end_of_rating>\\n<start_of_father_id>0<end_of_father_id><start_of_local_id>1<end_of_local_id><start_of_thought><expansion>The word \"strawberry\" contains 2 r\\'s.<end_of_thought><start_of_rating><positive_rating><end_of_rating>', refusal=None, role='assistant', audio=None, function_call=None, tool_calls=[]), stop_reason=None)], created=1735407545, model='llama-3-1-8b-instruct', object='chat.completion', service_tier=None, system_fingerprint=None, usage=CompletionUsage(completion_tokens=124, prompt_tokens=130, total_tokens=254, completion_tokens_details=None, prompt_tokens_details=None), prompt_logprobs=None)\n",
      "\n",
      "\n",
      "Chat response text: <start_of_father_id>-1<end_of_father_id><start_of_local_id>0<end_of_local_id><start_of_thought><problem>How many r's are in the word strawberry?<end_of_thought><start_of_rating><positive_rating><end_of_rating>\n",
      "<start_of_father_id>0<end_of_father_id><start_of_local_id>1<end_of_local_id><start_of_thought><expansion>The word \"strawberry\" contains 2 r's.<end_of_thought><start_of_rating><positive_rating><end_of_rating>\n"
     ]
    }
   ],
   "source": [
    "# Sample inference code for calling LLaMA-3.2-1B-Instruct model.\n",
    "from openai import OpenAI\n",
    "import time\n",
    "\n",
    "openai_api_key = \"EMPTY\"\n",
    "openai_api_base = \"https://ray-stable-killdeer.ngrok-free.app/v1\"\n",
    "\n",
    "client = OpenAI(\n",
    "    api_key=openai_api_key,\n",
    "    base_url=openai_api_base,\n",
    ")\n",
    "\n",
    "time_start = time.time()\n",
    "chat_response = client.chat.completions.create(\n",
    "    model=\"llama-3-1-8b-instruct\",\n",
    "    messages=[\n",
    "        # {\"role\": \"system\", \"content\": \"You are a helpful assistant.\"},\n",
    "        {\n",
    "            \"role\": \"user\",\n",
    "            \"content\": [\n",
    "                {\"type\": \"text\", \"text\": \"<start_of_father_id>-1<end_of_father_id><start_of_local_id>0<end_of_local_id><start_of_thought><problem>How many r's are in the word strawberry?<end_of_thought><start_of_rating><positive_rating><end_of_rating>\\n<start_of_father_id>0<end_of_father_id><start_of_local_id>1<end_of_local_id><start_of_thought><expansion>\"},\n",
    "            ],\n",
    "        },\n",
    "    ],\n",
    "    temperature=0.0,\n",
    "    n=1,\n",
    "    max_tokens=512\n",
    ")\n",
    "\n",
    "print(\"Time taken:\", time.time() - time_start)\n",
    "print(\"\\n\\nChat response:\", chat_response)\n",
    "print(\"\\n\\nChat response text:\", chat_response.choices[0].message.content)"
   ]
  }
 ],
 "metadata": {
  "kernelspec": {
   "display_name": "llama_o1",
   "language": "python",
   "name": "python3"
  },
  "language_info": {
   "codemirror_mode": {
    "name": "ipython",
    "version": 3
   },
   "file_extension": ".py",
   "mimetype": "text/x-python",
   "name": "python",
   "nbconvert_exporter": "python",
   "pygments_lexer": "ipython3",
   "version": "3.12.8"
  }
 },
 "nbformat": 4,
 "nbformat_minor": 2
}
