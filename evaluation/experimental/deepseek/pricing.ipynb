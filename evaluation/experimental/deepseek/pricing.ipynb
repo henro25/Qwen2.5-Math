{
 "cells": [
  {
   "cell_type": "code",
   "execution_count": 2,
   "metadata": {},
   "outputs": [
    {
     "name": "stdout",
     "output_type": "stream",
     "text": [
      "Average number of characters in a problem: 210.33733333333333\n",
      "Total number of problems: 7500\n"
     ]
    }
   ],
   "source": [
    "import json\n",
    "from transformers import AutoTokenizer\n",
    "\n",
    "data_path = '../../data/math/train.jsonl'\n",
    "\n",
    "# tokenizer = AutoTokenizer.from_pretrained(\"meta-llama/Meta-Llama-3.1-8B-Instruct\")\n",
    "\n",
    "# for each line in the file, load the json and average the number of characters in the problem\n",
    "with open(data_path, 'r') as f:\n",
    "    total_chars = 0\n",
    "    total_problems = 0\n",
    "    total_tokens = 0\n",
    "    for line in f:\n",
    "        data = json.loads(line)\n",
    "        # tokens = tokenizer.tokenize(data['problem'])\n",
    "        # total_tokens += len(tokens)\n",
    "        total_chars += len(data['problem'])\n",
    "        total_problems += 1\n",
    "\n",
    "    print('Average number of characters in a problem:', total_chars / total_problems)\n",
    "    # print('Average number of tokens in a problem:', total_tokens / total_problems)\n",
    "    print('Total number of problems:', total_problems)"
   ]
  }
 ],
 "metadata": {
  "kernelspec": {
   "display_name": "venv",
   "language": "python",
   "name": "python3"
  },
  "language_info": {
   "codemirror_mode": {
    "name": "ipython",
    "version": 3
   },
   "file_extension": ".py",
   "mimetype": "text/x-python",
   "name": "python",
   "nbconvert_exporter": "python",
   "pygments_lexer": "ipython3",
   "version": "3.12.7"
  }
 },
 "nbformat": 4,
 "nbformat_minor": 2
}
